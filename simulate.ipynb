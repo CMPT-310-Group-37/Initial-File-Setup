{
 "cells": [
  {
   "cell_type": "code",
   "execution_count": null,
   "id": "ebc4e88d",
   "metadata": {
    "scrolled": true
   },
   "outputs": [],
   "source": [
    "import chess\n",
    "import chess.engine\n",
    "import chess.pgn\n",
    "from tqdm import tqdm \n",
    "\n",
    "# this was used to have the stockfish model play against itself for data generation\n",
    "\n",
    "# stockfish engine path\n",
    "# this is the path on my Home machine it should be chnaged if you are using it \n",
    "STOCKFISH_PATH = \"/opt/homebrew/bin/stockfish\"\n",
    "stockfish_engine = chess.engine.SimpleEngine.popen_uci(STOCKFISH_PATH)\n",
    "\n",
    "# engine stats\n",
    "stockfish_engine.configure({\n",
    "    \"UCI_LimitStrength\": True,\n",
    "    \"UCI_Elo\": 2000\n",
    "})\n",
    "\n",
    "# Stockfish move\n",
    "def stockfish_move(board):\n",
    "    result = stockfish_engine.play(board, chess.engine.Limit(time=0.1, depth= 5))\n",
    "    return result.move.uci()\n",
    "\n",
    "# make 20 batches each with a 1000 games\n",
    "for batch_num in range(20):\n",
    "    filename = f\"simulated_games_batch_{batch_num + 1}.pgn\" \n",
    "    # open a file\n",
    "    with open(filename, \"w\") as pgn_file:\n",
    "        for game_num in tqdm(range(1000), desc=f\"Batch {batch_num + 1}\"):\n",
    "            # set the games and its headers\n",
    "            board = chess.Board()\n",
    "            game = chess.pgn.Game()\n",
    "            game.headers[\"Event\"] = \"Simulation\"\n",
    "            game.headers[\"Site\"] = \"Local\"\n",
    "            game.headers[\"Date\"] = \"2025.08.05\"\n",
    "            game.headers[\"Round\"] = str(game_num + 1)\n",
    "            game.headers[\"White\"] = \"Stockfish_2000\"\n",
    "            game.headers[\"Black\"] = \"Stockfish_2000\"\n",
    "\n",
    "            node = game\n",
    "\n",
    "            #let it play \n",
    "            while not board.is_game_over():\n",
    "                if board.turn == chess.WHITE:\n",
    "                    move_uci = stockfish_move(board)\n",
    "                else:\n",
    "                    move_uci = stockfish_move(board)\n",
    "\n",
    "                move = chess.Move.from_uci(move_uci)\n",
    "                board.push(move)\n",
    "                node = node.add_variation(move)\n",
    "            # save the outcome and the game \n",
    "            outcome = board.outcome()\n",
    "            if outcome:\n",
    "                game.headers[\"Result\"] = outcome.result()\n",
    "            else:\n",
    "                game.headers[\"Result\"] = \"*\"\n",
    "\n",
    "            print(game, file=pgn_file, end=\"\\n\\n\")\n",
    "\n",
    "stockfish_engine.quit()"
   ]
  },
  {
   "cell_type": "code",
   "execution_count": null,
   "id": "55120b71",
   "metadata": {},
   "outputs": [],
   "source": []
  }
 ],
 "metadata": {
  "kernelspec": {
   "display_name": "Python 3",
   "language": "python",
   "name": "python3"
  },
  "language_info": {
   "codemirror_mode": {
    "name": "ipython",
    "version": 3
   },
   "file_extension": ".py",
   "mimetype": "text/x-python",
   "name": "python",
   "nbconvert_exporter": "python",
   "pygments_lexer": "ipython3",
   "version": "3.13.0"
  }
 },
 "nbformat": 4,
 "nbformat_minor": 5
}
